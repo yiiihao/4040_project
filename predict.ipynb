{
 "cells": [
  {
   "cell_type": "code",
   "execution_count": 1,
   "id": "bf2bedfd",
   "metadata": {},
   "outputs": [],
   "source": [
    "from detect import detect_pent,detect_Rnet,detect_Onet\n",
    " \n",
    "import cv2\n",
    "import numpy as np"
   ]
  },
  {
   "cell_type": "code",
   "execution_count": 2,
   "id": "6b8d7c09",
   "metadata": {},
   "outputs": [],
   "source": [
    "def prediction(image):\n",
    "    image1 = cv2.cvtColor(image, cv2.COLOR_BGR2RGB)\n",
    "    \n",
    "    P_boxes, P_boxes_c = detect_pent(image1)\n",
    " \n",
    "    R_boxes,R_boxes_c = detect_Rnet(image1,P_boxes_c)\n",
    " \n",
    "    O_boxes,O_boxes_c,landmarks = detect_Onet(image1,R_boxes_c)\n",
    " \n",
    " \n",
    "    # if ret == False:\n",
    "    #     # 未检测到人脸\n",
    "    #     print(\"该图片未检测到人脸\")\n",
    "    for i in range(O_boxes_c.shape[0]):\n",
    "        bbox = O_boxes_c[i, :4]\n",
    "        score = O_boxes_c[i, 4]\n",
    "        corpbbox = [int(bbox[0]), int(bbox[1]), int(bbox[2]), int(bbox[3])]\n",
    "        # 画人脸框\n",
    "        cv2.rectangle(image, (corpbbox[0], corpbbox[1]),\n",
    "                      (corpbbox[2], corpbbox[3]), (255, 0, 0), 1)\n",
    "        # 判别为人脸的置信度\n",
    "        cv2.putText(image, '{:.2f}'.format(score),\n",
    "                    (corpbbox[0], corpbbox[1] - 2),\n",
    "                    cv2.FONT_HERSHEY_SIMPLEX, 0.5, (0, 0, 255), 1)\n",
    "        #landmark\n",
    "        for i in range(landmarks.shape[0]):\n",
    "            for j in range(len(landmarks[i])//2):\n",
    "                cv2.circle(image, (int(landmarks[i][2*j]),int(int(landmarks[i][2*j+1]))), 2, (0,0,255))\n",
    " \n",
    "    cv2.imshow('im', image)\n",
    "    cv2.waitKey(0)\n",
    "    cv2.destroyAllWindows()"
   ]
  },
  {
   "cell_type": "code",
   "execution_count": null,
   "id": "35b3e6b4",
   "metadata": {},
   "outputs": [
    {
     "name": "stdout",
     "output_type": "stream",
     "text": [
      "successful load\n"
     ]
    }
   ],
   "source": [
    "image = cv2.imread(\"data/WIDER_train/images/0--Parade/0_Parade_Parade_0_3.jpg\")\n",
    "prediction(image)"
   ]
  },
  {
   "cell_type": "code",
   "execution_count": null,
   "id": "42e54f35",
   "metadata": {},
   "outputs": [],
   "source": []
  }
 ],
 "metadata": {
  "kernelspec": {
   "display_name": "Python 3",
   "language": "python",
   "name": "python3"
  },
  "language_info": {
   "codemirror_mode": {
    "name": "ipython",
    "version": 3
   },
   "file_extension": ".py",
   "mimetype": "text/x-python",
   "name": "python",
   "nbconvert_exporter": "python",
   "pygments_lexer": "ipython3",
   "version": "3.7.13"
  }
 },
 "nbformat": 4,
 "nbformat_minor": 5
}
