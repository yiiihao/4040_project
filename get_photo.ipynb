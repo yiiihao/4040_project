{
 "cells": [
  {
   "cell_type": "code",
   "execution_count": 6,
   "id": "534a5670",
   "metadata": {},
   "outputs": [],
   "source": [
    "import os\n",
    "import cv2\n",
    "import numpy as np"
   ]
  },
  {
   "cell_type": "code",
   "execution_count": 7,
   "id": "ab3f46ad",
   "metadata": {},
   "outputs": [],
   "source": [
    "anno_file= 'data/wider_face_train.txt'"
   ]
  },
  {
   "cell_type": "code",
   "execution_count": 9,
   "id": "fffcabef",
   "metadata": {},
   "outputs": [],
   "source": [
    "f = open(anno_file,'r')\n",
    "f1 = open('data/wider_face_train_half.txt','w')\n",
    "line = f.readline()\n",
    "while line:\n",
    "    f1.write(line)\n",
    "    line = f.readline()\n",
    "    if not line:\n",
    "        break\n",
    "    line = f.readline()\n",
    "f.close()\n",
    "f1.close()"
   ]
  },
  {
   "cell_type": "code",
   "execution_count": null,
   "id": "3ac4dd41",
   "metadata": {},
   "outputs": [],
   "source": []
  }
 ],
 "metadata": {
  "kernelspec": {
   "display_name": "Python 3",
   "language": "python",
   "name": "python3"
  },
  "language_info": {
   "codemirror_mode": {
    "name": "ipython",
    "version": 3
   },
   "file_extension": ".py",
   "mimetype": "text/x-python",
   "name": "python",
   "nbconvert_exporter": "python",
   "pygments_lexer": "ipython3",
   "version": "3.7.13"
  }
 },
 "nbformat": 4,
 "nbformat_minor": 5
}
